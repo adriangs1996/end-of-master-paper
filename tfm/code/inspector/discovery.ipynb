{
 "cells": [
  {
   "cell_type": "code",
   "id": "initial_id",
   "metadata": {
    "collapsed": true,
    "ExecuteTime": {
     "end_time": "2024-04-18T20:29:24.031303Z",
     "start_time": "2024-04-18T20:29:24.002370Z"
    }
   },
   "source": [
    "from typing import Protocol\n",
    "import requests\n",
    "\n",
    "\n",
    "class CodeToPythonTranslator(Protocol):\n",
    "  def translate(self, code):\n",
    "    ...\n",
    "  "
   ],
   "outputs": [],
   "execution_count": 3
  },
  {
   "metadata": {
    "ExecuteTime": {
     "end_time": "2024-04-18T20:33:46.814856Z",
     "start_time": "2024-04-18T20:33:46.404703Z"
    }
   },
   "cell_type": "code",
   "source": [
    "class OllamaCodeToPythonTranslator(CodeToPythonTranslator):\n",
    "  def __init__(self, ollama_ip: str = 'localhost', ollama_port: int = 11434):\n",
    "    self._ollama_ip = ollama_ip\n",
    "    self._ollama_port = ollama_port\n",
    "  \n",
    "  \n",
    "  def _call_ollama(self, code: str) -> str:\n",
    "    url = f'http://{self._ollama_ip}:{self._ollama_port}/api/generate'\n",
    "    data = {\n",
    "      'model': 'codellama:7b',\n",
    "      'stream': False,\n",
    "      'prompt': self._build_prompt(code),\n",
    "    }\n",
    "    response = requests.post(url, json=data)\n",
    "    response.raise_for_status()\n",
    "    return response.json().get('response')\n",
    "  \n",
    "  @staticmethod\n",
    "  def _build_prompt(code: str) -> str:\n",
    "    # Try to build a prompt that will make the model\n",
    "    # output just the code we want translated to python.\n",
    "    # We can assume that the given code is in any language.\n",
    "    return \"You are an expert programmer. You are really good at translating code to python. You are going to translate the following code to python: \\n\" + code + \"\\n\\n Please output just the python code.\"\n",
    "  \n",
    "  def translate(self, code):\n",
    "    return self._call_ollama(code)\n",
    "\n",
    "translator = OllamaCodeToPythonTranslator()\n",
    "print(translator.translate('puts \"Hello, World!\"'))"
   ],
   "id": "3b82de7b0648b5e1",
   "outputs": [
    {
     "name": "stdout",
     "output_type": "stream",
     "text": [
      "\n",
      "print(\"Hello, World!\")\n"
     ]
    }
   ],
   "execution_count": 10
  },
  {
   "metadata": {},
   "cell_type": "code",
   "outputs": [],
   "execution_count": null,
   "source": "",
   "id": "4926e9198c032a77"
  }
 ],
 "metadata": {
  "kernelspec": {
   "display_name": "Python 3",
   "language": "python",
   "name": "python3"
  },
  "language_info": {
   "codemirror_mode": {
    "name": "ipython",
    "version": 2
   },
   "file_extension": ".py",
   "mimetype": "text/x-python",
   "name": "python",
   "nbconvert_exporter": "python",
   "pygments_lexer": "ipython2",
   "version": "2.7.6"
  }
 },
 "nbformat": 4,
 "nbformat_minor": 5
}
